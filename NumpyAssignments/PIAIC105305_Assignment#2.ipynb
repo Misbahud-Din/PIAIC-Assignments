{
 "cells": [
  {
   "cell_type": "markdown",
   "metadata": {},
   "source": [
    "# Numpy_Assignment_2::"
   ]
  },
  {
   "cell_type": "markdown",
   "metadata": {},
   "source": [
    "## Question:1"
   ]
  },
  {
   "cell_type": "markdown",
   "metadata": {},
   "source": [
    "### Convert a 1D array to a 2D array with 2 rows?"
   ]
  },
  {
   "cell_type": "markdown",
   "metadata": {},
   "source": [
    "#### Desired output::"
   ]
  },
  {
   "cell_type": "markdown",
   "metadata": {},
   "source": [
    "array([[0, 1, 2, 3, 4],\n",
    "        [5, 6, 7, 8, 9]])"
   ]
  },
  {
   "cell_type": "code",
   "execution_count": 2,
   "metadata": {},
   "outputs": [
    {
     "output_type": "execute_result",
     "data": {
      "text/plain": [
       "array([[0, 1, 2, 3, 4],\n",
       "       [5, 6, 7, 8, 9]])"
      ]
     },
     "metadata": {},
     "execution_count": 2
    }
   ],
   "source": [
    "import numpy as np\n",
    "arr = np.array([0,1, 2, 3, 4, 5, 6, 7, 8, 9])\n",
    "arr.reshape(2,5)"
   ]
  },
  {
   "cell_type": "markdown",
   "metadata": {},
   "source": [
    "## Question:2"
   ]
  },
  {
   "cell_type": "markdown",
   "metadata": {},
   "source": [
    "###  How to stack two arrays vertically?"
   ]
  },
  {
   "cell_type": "markdown",
   "metadata": {},
   "source": [
    "#### Desired Output::"
   ]
  },
  {
   "cell_type": "raw",
   "metadata": {},
   "source": [
    "array([[0, 1, 2, 3, 4],\n",
    "        [5, 6, 7, 8, 9],\n",
    "       [1, 1, 1, 1, 1],\n",
    "       [1, 1, 1, 1, 1]])"
   ]
  },
  {
   "cell_type": "code",
   "execution_count": 4,
   "metadata": {},
   "outputs": [
    {
     "output_type": "execute_result",
     "data": {
      "text/plain": [
       "array([[1, 2, 3],\n",
       "       [4, 5, 6]])"
      ]
     },
     "metadata": {},
     "execution_count": 4
    }
   ],
   "source": [
    "arr1 = np.array([1, 2, 3])\n",
    "arr2 = np.array([4, 5, 6])\n",
    "arr = np.stack((arr1, arr2))\n",
    "arr\n",
    "\n"
   ]
  },
  {
   "cell_type": "markdown",
   "metadata": {},
   "source": [
    "## Question:3"
   ]
  },
  {
   "cell_type": "markdown",
   "metadata": {},
   "source": [
    "### How to stack two arrays horizontally?"
   ]
  },
  {
   "cell_type": "markdown",
   "metadata": {},
   "source": [
    "#### Desired Output::"
   ]
  },
  {
   "cell_type": "raw",
   "metadata": {},
   "source": [
    "array([[0, 1, 2, 3, 4, 1, 1, 1, 1, 1],\n",
    "       [5, 6, 7, 8, 9, 1, 1, 1, 1, 1]])"
   ]
  },
  {
   "cell_type": "code",
   "execution_count": 6,
   "metadata": {},
   "outputs": [
    {
     "output_type": "execute_result",
     "data": {
      "text/plain": [
       "array([[1, 4],\n",
       "       [2, 5],\n",
       "       [3, 6]])"
      ]
     },
     "metadata": {},
     "execution_count": 6
    }
   ],
   "source": [
    "\n",
    "arr1 = np.array([1, 2, 3])\n",
    "arr2 = np.array([4, 5, 6])\n",
    "arr = np.stack((arr1, arr2), axis=1)\n",
    "arr\n"
   ]
  },
  {
   "cell_type": "markdown",
   "metadata": {},
   "source": [
    "## Question:4"
   ]
  },
  {
   "cell_type": "markdown",
   "metadata": {},
   "source": [
    "### How to convert an array of arrays into a flat 1d array?"
   ]
  },
  {
   "cell_type": "markdown",
   "metadata": {},
   "source": [
    "#### Desired Output::"
   ]
  },
  {
   "cell_type": "raw",
   "metadata": {},
   "source": [
    "array([0, 1, 2, 3, 4, 5, 6, 7, 8, 9])"
   ]
  },
  {
   "cell_type": "code",
   "execution_count": 8,
   "metadata": {},
   "outputs": [
    {
     "output_type": "execute_result",
     "data": {
      "text/plain": [
       "array([0, 1, 2, 3, 4, 5, 6, 7, 8, 9])"
      ]
     },
     "metadata": {},
     "execution_count": 8
    }
   ],
   "source": [
    "arr = np.array([[0, 1, 2, 3, 4],[5, 6, 7, 8, 9]])\n",
    "arr1 = arr.flatten()\n",
    "arr1"
   ]
  },
  {
   "cell_type": "markdown",
   "metadata": {},
   "source": [
    "## Question:5"
   ]
  },
  {
   "cell_type": "markdown",
   "metadata": {},
   "source": [
    "### How to Convert higher dimension into one dimension?"
   ]
  },
  {
   "cell_type": "markdown",
   "metadata": {},
   "source": [
    "#### Desired Output::"
   ]
  },
  {
   "cell_type": "raw",
   "metadata": {},
   "source": [
    "array([ 0, 1, 2, 3, 4, 5, 6, 7, 8, 9, 10, 11, 12, 13, 14])"
   ]
  },
  {
   "cell_type": "code",
   "execution_count": 10,
   "metadata": {},
   "outputs": [
    {
     "output_type": "execute_result",
     "data": {
      "text/plain": [
       "array([24, 10, 99, 84, 77,  7, 38, 33, 28, 75, 67, 81, 38, 92, 72, 87, 27,\n",
       "       52, 43, 29, 54, 98, 85, 73, 28, 92, 49, 32, 15, 97, 17, 17,  0,  1,\n",
       "       68, 75, 30, 45, 59, 64, 91, 15, 17,  2, 64, 58, 31, 26, 57, 20,  8,\n",
       "       61, 69, 21, 90, 26,  8, 90, 90,  7,  8, 52, 70, 77, 64, 44, 10, 47,\n",
       "       67, 87, 51, 59, 71, 14, 48, 44, 61, 91, 97, 87, 57, 28, 24,  1, 50,\n",
       "        5, 77, 66, 61, 93,  1, 49, 40, 85,  4, 82, 79, 77, 43,  3, 20, 69,\n",
       "        8, 14, 56, 43, 14, 72, 82, 93, 16, 44,  3, 77, 84,  1, 17, 76, 17,\n",
       "       99, 25, 16, 90, 15, 93])"
      ]
     },
     "metadata": {},
     "execution_count": 10
    }
   ],
   "source": [
    "arr = np.random.randint(100,size=(5,5,5))\n",
    "arr.flatten()\n"
   ]
  },
  {
   "cell_type": "markdown",
   "metadata": {},
   "source": [
    "## Question:6"
   ]
  },
  {
   "cell_type": "markdown",
   "metadata": {},
   "source": [
    "### Convert one dimension to higher dimension?"
   ]
  },
  {
   "cell_type": "markdown",
   "metadata": {},
   "source": [
    "#### Desired Output::"
   ]
  },
  {
   "cell_type": "raw",
   "metadata": {},
   "source": [
    "array([[ 0, 1, 2],\n",
    "[ 3, 4, 5],\n",
    "[ 6, 7, 8],\n",
    "[ 9, 10, 11],\n",
    "[12, 13, 14]])"
   ]
  },
  {
   "cell_type": "code",
   "execution_count": 12,
   "metadata": {},
   "outputs": [
    {
     "output_type": "execute_result",
     "data": {
      "text/plain": [
       "array([[[12, 98, 50, 93, 29],\n",
       "        [64, 84, 68, 96,  4],\n",
       "        [29, 55, 23, 96, 88],\n",
       "        [75, 42, 76, 78, 10],\n",
       "        [18, 75, 51, 55,  5]],\n",
       "\n",
       "       [[85, 45, 29, 33, 99],\n",
       "        [65, 76, 96, 71, 64],\n",
       "        [31, 39, 42, 67, 31],\n",
       "        [19, 30, 74, 47, 66],\n",
       "        [86, 38,  7, 67, 81]],\n",
       "\n",
       "       [[13, 89, 81, 59,  9],\n",
       "        [10, 82, 90, 27, 45],\n",
       "        [ 6, 15,  1, 47,  0],\n",
       "        [57, 39,  1, 10, 19],\n",
       "        [55, 47,  2, 17, 68]],\n",
       "\n",
       "       [[55, 87, 76, 50, 97],\n",
       "        [ 1, 99, 64, 51, 99],\n",
       "        [51, 67,  7, 31, 31],\n",
       "        [ 7, 36, 66, 76, 62],\n",
       "        [56, 29, 72, 82, 38]],\n",
       "\n",
       "       [[79, 22,  6, 30, 10],\n",
       "        [11, 17, 97, 33, 12],\n",
       "        [ 6, 53, 92, 53, 92],\n",
       "        [65, 17, 95, 31, 25],\n",
       "        [22, 83, 51, 72, 22]]])"
      ]
     },
     "metadata": {},
     "execution_count": 12
    }
   ],
   "source": [
    "array = np.array([12, 98, 50, 93, 29, 64, 84, 68, 96,  4, 29, 55, 23, 96, 88, 75, 42,\n",
    "       76, 78, 10, 18, 75, 51, 55,  5, 85, 45, 29, 33, 99, 65, 76, 96, 71,\n",
    "       64, 31, 39, 42, 67, 31, 19, 30, 74, 47, 66, 86, 38,  7, 67, 81, 13,\n",
    "       89, 81, 59,  9, 10, 82, 90, 27, 45,  6, 15,  1, 47,  0, 57, 39,  1,\n",
    "       10, 19, 55, 47,  2, 17, 68, 55, 87, 76, 50, 97,  1, 99, 64, 51, 99,\n",
    "       51, 67,  7, 31, 31,  7, 36, 66, 76, 62, 56, 29, 72, 82, 38, 79, 22,\n",
    "        6, 30, 10, 11, 17, 97, 33, 12,  6, 53, 92, 53, 92, 65, 17, 95, 31,\n",
    "       25, 22, 83, 51, 72, 22])\n",
    "array.reshape(5,5,5)"
   ]
  },
  {
   "cell_type": "markdown",
   "metadata": {},
   "source": [
    "## Question:7"
   ]
  },
  {
   "cell_type": "markdown",
   "metadata": {},
   "source": [
    "### Create 5x5 an array and find the square of an array?"
   ]
  },
  {
   "cell_type": "code",
   "execution_count": 14,
   "metadata": {},
   "outputs": [
    {
     "output_type": "execute_result",
     "data": {
      "text/plain": [
       "array([[7.24252948e-01, 4.11721228e-01, 3.48448007e-01, 9.36219699e-01,\n",
       "        2.97663801e-01],\n",
       "       [3.79799318e-01, 1.78110161e-01, 9.49286246e-05, 2.71739053e-01,\n",
       "        4.79765699e-01],\n",
       "       [4.69928231e-01, 2.31475203e-01, 6.71428776e-02, 1.25280627e-04,\n",
       "        4.44410810e-01],\n",
       "       [7.69238689e-02, 7.98892774e-04, 5.95599135e-05, 2.04618548e-01,\n",
       "        1.95766117e-01],\n",
       "       [2.31182616e-01, 8.11322868e-01, 1.16358670e-01, 2.21674615e-02,\n",
       "        6.58055156e-01]])"
      ]
     },
     "metadata": {},
     "execution_count": 14
    }
   ],
   "source": [
    "array = np.random.rand(5,5)\n",
    "np.square(array)"
   ]
  },
  {
   "cell_type": "markdown",
   "metadata": {},
   "source": [
    "## Question:8"
   ]
  },
  {
   "cell_type": "markdown",
   "metadata": {},
   "source": [
    "### Create 5x6 an array and find the mean?"
   ]
  },
  {
   "cell_type": "code",
   "execution_count": 16,
   "metadata": {},
   "outputs": [
    {
     "output_type": "execute_result",
     "data": {
      "text/plain": [
       "0.4856325837108917"
      ]
     },
     "metadata": {},
     "execution_count": 16
    }
   ],
   "source": [
    "array = np.random.rand(5,5)\n",
    "np.mean(array)"
   ]
  },
  {
   "cell_type": "markdown",
   "metadata": {},
   "source": [
    "## Question:9"
   ]
  },
  {
   "cell_type": "markdown",
   "metadata": {},
   "source": [
    "### Find the standard deviation of the previous array in Q8?"
   ]
  },
  {
   "cell_type": "code",
   "execution_count": 18,
   "metadata": {},
   "outputs": [
    {
     "output_type": "execute_result",
     "data": {
      "text/plain": [
       "0.29281085520540373"
      ]
     },
     "metadata": {},
     "execution_count": 18
    }
   ],
   "source": [
    "np.std(array)"
   ]
  },
  {
   "cell_type": "markdown",
   "metadata": {},
   "source": [
    "## Question:10"
   ]
  },
  {
   "cell_type": "markdown",
   "metadata": {},
   "source": [
    "### Find the median of the previous array in Q8?"
   ]
  },
  {
   "cell_type": "code",
   "execution_count": 20,
   "metadata": {},
   "outputs": [
    {
     "output_type": "execute_result",
     "data": {
      "text/plain": [
       "0.509015799369574"
      ]
     },
     "metadata": {},
     "execution_count": 20
    }
   ],
   "source": [
    "np.median(array)"
   ]
  },
  {
   "cell_type": "markdown",
   "metadata": {},
   "source": [
    "## Question:11"
   ]
  },
  {
   "cell_type": "markdown",
   "metadata": {},
   "source": [
    "### Find the transpose of the previous array in Q8?"
   ]
  },
  {
   "cell_type": "code",
   "execution_count": 22,
   "metadata": {},
   "outputs": [
    {
     "output_type": "execute_result",
     "data": {
      "text/plain": [
       "array([[0.74548393, 0.06574893, 0.06800593, 0.89634332, 0.59406072],\n",
       "       [0.23013308, 0.94211292, 0.5090158 , 0.05549669, 0.59554979],\n",
       "       [0.8259735 , 0.40671459, 0.63051561, 0.90325542, 0.21140585],\n",
       "       [0.74398295, 0.38270343, 0.16053176, 0.64853577, 0.31183074],\n",
       "       [0.06147843, 0.89029065, 0.1931611 , 0.47456198, 0.59392169]])"
      ]
     },
     "metadata": {},
     "execution_count": 22
    }
   ],
   "source": [
    "np.transpose(array)"
   ]
  },
  {
   "cell_type": "markdown",
   "metadata": {},
   "source": [
    "## Question:12"
   ]
  },
  {
   "cell_type": "markdown",
   "metadata": {},
   "source": [
    "### Create a 4x4 an array and find the sum of diagonal elements?"
   ]
  },
  {
   "cell_type": "code",
   "execution_count": 24,
   "metadata": {},
   "outputs": [
    {
     "output_type": "execute_result",
     "data": {
      "text/plain": [
       "1.7550309947010627"
      ]
     },
     "metadata": {},
     "execution_count": 24
    }
   ],
   "source": [
    "arr4 = np.random.rand(4,4)\n",
    "np.trace(arr4)"
   ]
  },
  {
   "cell_type": "markdown",
   "metadata": {},
   "source": [
    "## Question:13"
   ]
  },
  {
   "cell_type": "markdown",
   "metadata": {},
   "source": [
    "### Find the determinant of the previous array in Q12?"
   ]
  },
  {
   "cell_type": "code",
   "execution_count": 26,
   "metadata": {},
   "outputs": [
    {
     "output_type": "execute_result",
     "data": {
      "text/plain": [
       "-0.006315653133707198"
      ]
     },
     "metadata": {},
     "execution_count": 26
    }
   ],
   "source": [
    "np.linalg.det(arr4)"
   ]
  },
  {
   "cell_type": "markdown",
   "metadata": {},
   "source": [
    "## Question:14"
   ]
  },
  {
   "cell_type": "markdown",
   "metadata": {},
   "source": [
    "### Find the 5th and 95th percentile of an array?"
   ]
  },
  {
   "cell_type": "code",
   "execution_count": 35,
   "metadata": {},
   "outputs": [
    {
     "output_type": "stream",
     "name": "stdout",
     "text": [
      "-1.4697831496893348\n1.2420252818154323\n"
     ]
    }
   ],
   "source": [
    "array = np.ndarray(20)\n",
    "print(np.percentile(array,5))\n",
    "print(np.percentile(array,95))"
   ]
  },
  {
   "cell_type": "markdown",
   "metadata": {},
   "source": [
    "## Question:15"
   ]
  },
  {
   "cell_type": "markdown",
   "metadata": {},
   "source": [
    "### How to find if a given array has any null values?"
   ]
  },
  {
   "cell_type": "code",
   "execution_count": 39,
   "metadata": {},
   "outputs": [
    {
     "output_type": "execute_result",
     "data": {
      "text/plain": [
       "array([False, False, False, False, False,  True])"
      ]
     },
     "metadata": {},
     "execution_count": 39
    }
   ],
   "source": [
    "arr = np.array([0, 1, 2, 3, 4, -5])\n",
    "sqrt_arr = np.sqrt(arr)\n",
    "np.isnan(sqrt_arr)\n"
   ]
  }
 ],
 "metadata": {
  "kernelspec": {
   "display_name": "Python 3",
   "language": "python",
   "name": "python3"
  },
  "language_info": {
   "codemirror_mode": {
    "name": "ipython",
    "version": 3
   },
   "file_extension": ".py",
   "mimetype": "text/x-python",
   "name": "python",
   "nbconvert_exporter": "python",
   "pygments_lexer": "ipython3",
   "version": "3.8.6-final"
  }
 },
 "nbformat": 4,
 "nbformat_minor": 2
}